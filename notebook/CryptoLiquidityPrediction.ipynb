{
 "cells": [
  {
   "cell_type": "markdown",
   "id": "e9f07cf6",
   "metadata": {},
   "source": [
    "# CryptoCurrency Liquidity Prediction for market stability\n",
    "**Life cycle of Machine learning Project**\n",
    "\n",
    "* Understanding the Problem Statement\n",
    "* Data Collection\n",
    "* Data Cleaning\n",
    "* Exploratory data analysis\n",
    "* Data Pre-Processing\n",
    "* Model Training \n",
    "* Choose best model"
   ]
  },
  {
   "cell_type": "markdown",
   "id": "c00e1da5",
   "metadata": {},
   "source": [
    "**Understand the problem statement**\n",
    "\n",
    "Cryptocurrency markets are highly volatile, and liquidity plays a crucial role in market stability. Liquidity refers to the ease with which assets can be bought or sold without significantly impacting the price. A lack of liquidity can lead to increased price fluctuations and market instability\n",
    "\n",
    "In this project the final model should provide insights into market stability by forecasting liquidity variations, allowing traders and financial institutions to make informed decisions."
   ]
  },
  {
   "cell_type": "markdown",
   "id": "4c7d9c5d",
   "metadata": {},
   "source": [
    "**Data Collection**\n",
    "\n",
    "A dataset that includes historical cryptocurrency price and trading volume data from below link.\n",
    "The dataset consists of records from 2016 and 2017.\n",
    "\n",
    "Dataset : https://drive.google.com/drive/folders/10BRgPip2Zj_56is3DilJCowjfyT6E9AM\n",
    "\n",
    "To support the prediction of cryptocurrency liquidity levels, two days of market data were collected from CoinGecko. This dataset includes key market indicators such as trading volume and price movements, which are essential for identifying early signs of liquidity crises\n"
   ]
  },
  {
   "cell_type": "markdown",
   "id": "507938a9",
   "metadata": {},
   "source": [
    "**Importing neccessary libraries**"
   ]
  },
  {
   "cell_type": "code",
   "execution_count": 3,
   "id": "05afd3b2",
   "metadata": {},
   "outputs": [],
   "source": [
    "import numpy as np\n",
    "import pandas as pd\n",
    "import matplotlib.pyplot as plt\n",
    "import seaborn as sns\n",
    "from sklearn.preprocessing import LabelEncoder\n",
    "\n",
    "import warnings\n",
    "warnings.filterwarnings('ignore')"
   ]
  },
  {
   "cell_type": "markdown",
   "id": "5e64aae5",
   "metadata": {},
   "source": [
    "**Loading the dataset using Pandas data frame**"
   ]
  },
  {
   "cell_type": "code",
   "execution_count": 4,
   "id": "b7e9b8ab",
   "metadata": {},
   "outputs": [],
   "source": [
    "df1 = pd.read_csv(r\"C:\\Users\\pc\\CLPMS\\Data\\coin_gecko_2022-03-16.csv\")\n",
    "df2 = pd.read_csv(r\"C:\\Users\\pc\\CLPMS\\Data\\coin_gecko_2022-03-17.csv\")"
   ]
  },
  {
   "cell_type": "markdown",
   "id": "1c54cddd",
   "metadata": {},
   "source": [
    "**Concatenate and sort the data by dates**"
   ]
  },
  {
   "cell_type": "code",
   "execution_count": 5,
   "id": "c2214f94",
   "metadata": {},
   "outputs": [
    {
     "data": {
      "text/html": [
       "<div>\n",
       "<style scoped>\n",
       "    .dataframe tbody tr th:only-of-type {\n",
       "        vertical-align: middle;\n",
       "    }\n",
       "\n",
       "    .dataframe tbody tr th {\n",
       "        vertical-align: top;\n",
       "    }\n",
       "\n",
       "    .dataframe thead th {\n",
       "        text-align: right;\n",
       "    }\n",
       "</style>\n",
       "<table border=\"1\" class=\"dataframe\">\n",
       "  <thead>\n",
       "    <tr style=\"text-align: right;\">\n",
       "      <th></th>\n",
       "      <th>coin</th>\n",
       "      <th>symbol</th>\n",
       "      <th>price</th>\n",
       "      <th>1h</th>\n",
       "      <th>24h</th>\n",
       "      <th>7d</th>\n",
       "      <th>24h_volume</th>\n",
       "      <th>mkt_cap</th>\n",
       "      <th>date</th>\n",
       "    </tr>\n",
       "  </thead>\n",
       "  <tbody>\n",
       "    <tr>\n",
       "      <th>0</th>\n",
       "      <td>0x</td>\n",
       "      <td>ZRX</td>\n",
       "      <td>0.518160</td>\n",
       "      <td>0.003</td>\n",
       "      <td>0.016</td>\n",
       "      <td>-0.010</td>\n",
       "      <td>24224308.0</td>\n",
       "      <td>439124277.0</td>\n",
       "      <td>2022-03-17</td>\n",
       "    </tr>\n",
       "    <tr>\n",
       "      <th>1</th>\n",
       "      <td>0x</td>\n",
       "      <td>ZRX</td>\n",
       "      <td>0.509791</td>\n",
       "      <td>0.025</td>\n",
       "      <td>0.035</td>\n",
       "      <td>0.028</td>\n",
       "      <td>29309302.0</td>\n",
       "      <td>427933388.0</td>\n",
       "      <td>2022-03-16</td>\n",
       "    </tr>\n",
       "    <tr>\n",
       "      <th>2</th>\n",
       "      <td>1inch</td>\n",
       "      <td>1INCH</td>\n",
       "      <td>1.500000</td>\n",
       "      <td>0.021</td>\n",
       "      <td>0.111</td>\n",
       "      <td>0.163</td>\n",
       "      <td>120457113.0</td>\n",
       "      <td>616145134.0</td>\n",
       "      <td>2022-03-16</td>\n",
       "    </tr>\n",
       "    <tr>\n",
       "      <th>3</th>\n",
       "      <td>1inch</td>\n",
       "      <td>1INCH</td>\n",
       "      <td>1.490000</td>\n",
       "      <td>0.008</td>\n",
       "      <td>-0.003</td>\n",
       "      <td>0.087</td>\n",
       "      <td>64145152.0</td>\n",
       "      <td>617505356.0</td>\n",
       "      <td>2022-03-17</td>\n",
       "    </tr>\n",
       "    <tr>\n",
       "      <th>4</th>\n",
       "      <td>AIOZ Network</td>\n",
       "      <td>AIOZ</td>\n",
       "      <td>0.237396</td>\n",
       "      <td>0.047</td>\n",
       "      <td>0.287</td>\n",
       "      <td>0.241</td>\n",
       "      <td>13715452.0</td>\n",
       "      <td>114207956.0</td>\n",
       "      <td>2022-03-16</td>\n",
       "    </tr>\n",
       "  </tbody>\n",
       "</table>\n",
       "</div>"
      ],
      "text/plain": [
       "           coin symbol     price  ...   24h_volume      mkt_cap       date\n",
       "0            0x    ZRX  0.518160  ...   24224308.0  439124277.0 2022-03-17\n",
       "1            0x    ZRX  0.509791  ...   29309302.0  427933388.0 2022-03-16\n",
       "2         1inch  1INCH  1.500000  ...  120457113.0  616145134.0 2022-03-16\n",
       "3         1inch  1INCH  1.490000  ...   64145152.0  617505356.0 2022-03-17\n",
       "4  AIOZ Network   AIOZ  0.237396  ...   13715452.0  114207956.0 2022-03-16\n",
       "\n",
       "[5 rows x 9 columns]"
      ]
     },
     "execution_count": 5,
     "metadata": {},
     "output_type": "execute_result"
    }
   ],
   "source": [
    "#concatenate the data\n",
    "df = pd.concat([df1 , df2] , ignore_index = True)\n",
    "\n",
    "#convert date column to date time\n",
    "df['date'] = pd.to_datetime(df['date'])\n",
    "\n",
    "#sort the columns\n",
    "df = df.sort_values(by = ['coin']).reset_index(drop= True)\n",
    "df.head()"
   ]
  },
  {
   "cell_type": "markdown",
   "id": "792221af",
   "metadata": {},
   "source": [
    "# Data Preprocessing\n",
    "**Handle missing values**"
   ]
  },
  {
   "cell_type": "code",
   "execution_count": 6,
   "id": "354b38d3",
   "metadata": {},
   "outputs": [],
   "source": [
    "#checking the null values\n",
    "df.isnull().sum()\n",
    "\n",
    "#Filling the null values with median values\n",
    "df.fillna(df.median(numeric_only=True), inplace=True)"
   ]
  },
  {
   "cell_type": "code",
   "execution_count": 7,
   "id": "41819101",
   "metadata": {},
   "outputs": [
    {
     "data": {
      "text/plain": [
       "coin                  object\n",
       "symbol                object\n",
       "price                float64\n",
       "1h                   float64\n",
       "24h                  float64\n",
       "7d                   float64\n",
       "24h_volume           float64\n",
       "mkt_cap              float64\n",
       "date          datetime64[ns]\n",
       "dtype: object"
      ]
     },
     "execution_count": 7,
     "metadata": {},
     "output_type": "execute_result"
    }
   ],
   "source": [
    "#checking the data types of column\n",
    "df.dtypes"
   ]
  },
  {
   "cell_type": "markdown",
   "id": "a4e19a03",
   "metadata": {},
   "source": [
    "**Label Encoding**"
   ]
  },
  {
   "cell_type": "code",
   "execution_count": 8,
   "id": "e8fb7b1e",
   "metadata": {},
   "outputs": [],
   "source": [
    "#Label encoding for coin and symbol column\n",
    "encoder = LabelEncoder()\n",
    "\n",
    "df['Encoded_coin'] = encoder.fit_transform(df['coin'])\n",
    "df['Encoded_symbol'] =encoder.fit_transform(df['symbol'])"
   ]
  },
  {
   "cell_type": "markdown",
   "id": "b9d5ecc0",
   "metadata": {},
   "source": [
    "**Dropping uneccessary features**\n",
    "\n",
    "Encoded symbol is just a shorter form of coin and doesn’t add extra information. "
   ]
  },
  {
   "cell_type": "code",
   "execution_count": 9,
   "id": "839ec762",
   "metadata": {},
   "outputs": [],
   "source": [
    "#Dropping the Encoded symbol feature\n",
    "df.drop('Encoded_symbol' , axis=1, inplace= True)"
   ]
  },
  {
   "cell_type": "markdown",
   "id": "07d1433d",
   "metadata": {},
   "source": [
    "# EDA - Exploratory Data Analysis"
   ]
  },
  {
   "cell_type": "markdown",
   "id": "39461c4d",
   "metadata": {},
   "source": [
    "**Descrption of the data**"
   ]
  },
  {
   "cell_type": "code",
   "execution_count": 10,
   "id": "3d67e971",
   "metadata": {},
   "outputs": [
    {
     "data": {
      "text/html": [
       "<div>\n",
       "<style scoped>\n",
       "    .dataframe tbody tr th:only-of-type {\n",
       "        vertical-align: middle;\n",
       "    }\n",
       "\n",
       "    .dataframe tbody tr th {\n",
       "        vertical-align: top;\n",
       "    }\n",
       "\n",
       "    .dataframe thead th {\n",
       "        text-align: right;\n",
       "    }\n",
       "</style>\n",
       "<table border=\"1\" class=\"dataframe\">\n",
       "  <thead>\n",
       "    <tr style=\"text-align: right;\">\n",
       "      <th></th>\n",
       "      <th>price</th>\n",
       "      <th>1h</th>\n",
       "      <th>24h</th>\n",
       "      <th>7d</th>\n",
       "      <th>24h_volume</th>\n",
       "      <th>mkt_cap</th>\n",
       "      <th>date</th>\n",
       "      <th>Encoded_coin</th>\n",
       "    </tr>\n",
       "  </thead>\n",
       "  <tbody>\n",
       "    <tr>\n",
       "      <th>count</th>\n",
       "      <td>1.000000e+03</td>\n",
       "      <td>1000.000000</td>\n",
       "      <td>1000.000000</td>\n",
       "      <td>1000.000000</td>\n",
       "      <td>1.000000e+03</td>\n",
       "      <td>1.000000e+03</td>\n",
       "      <td>1000</td>\n",
       "      <td>1000.000000</td>\n",
       "    </tr>\n",
       "    <tr>\n",
       "      <th>mean</th>\n",
       "      <td>6.561060e+02</td>\n",
       "      <td>0.009697</td>\n",
       "      <td>0.023683</td>\n",
       "      <td>0.023366</td>\n",
       "      <td>2.873441e+08</td>\n",
       "      <td>3.755304e+09</td>\n",
       "      <td>2022-03-16 12:00:00</td>\n",
       "      <td>252.655000</td>\n",
       "    </tr>\n",
       "    <tr>\n",
       "      <th>min</th>\n",
       "      <td>1.484000e-09</td>\n",
       "      <td>-0.704000</td>\n",
       "      <td>-0.646000</td>\n",
       "      <td>-0.558000</td>\n",
       "      <td>0.000000e+00</td>\n",
       "      <td>6.577043e+07</td>\n",
       "      <td>2022-03-16 00:00:00</td>\n",
       "      <td>0.000000</td>\n",
       "    </tr>\n",
       "    <tr>\n",
       "      <th>25%</th>\n",
       "      <td>1.940547e-01</td>\n",
       "      <td>0.001000</td>\n",
       "      <td>0.001000</td>\n",
       "      <td>-0.040250</td>\n",
       "      <td>1.842994e+06</td>\n",
       "      <td>1.157776e+08</td>\n",
       "      <td>2022-03-16 00:00:00</td>\n",
       "      <td>126.000000</td>\n",
       "    </tr>\n",
       "    <tr>\n",
       "      <th>50%</th>\n",
       "      <td>1.095000e+00</td>\n",
       "      <td>0.006000</td>\n",
       "      <td>0.016000</td>\n",
       "      <td>-0.000500</td>\n",
       "      <td>8.343005e+06</td>\n",
       "      <td>2.120036e+08</td>\n",
       "      <td>2022-03-16 12:00:00</td>\n",
       "      <td>253.000000</td>\n",
       "    </tr>\n",
       "    <tr>\n",
       "      <th>75%</th>\n",
       "      <td>7.232500e+00</td>\n",
       "      <td>0.019000</td>\n",
       "      <td>0.035000</td>\n",
       "      <td>0.036000</td>\n",
       "      <td>3.923430e+07</td>\n",
       "      <td>5.948436e+08</td>\n",
       "      <td>2022-03-17 00:00:00</td>\n",
       "      <td>379.250000</td>\n",
       "    </tr>\n",
       "    <tr>\n",
       "      <th>max</th>\n",
       "      <td>4.121727e+04</td>\n",
       "      <td>0.095000</td>\n",
       "      <td>0.577000</td>\n",
       "      <td>4.608000</td>\n",
       "      <td>5.793497e+10</td>\n",
       "      <td>7.760774e+11</td>\n",
       "      <td>2022-03-17 00:00:00</td>\n",
       "      <td>505.000000</td>\n",
       "    </tr>\n",
       "    <tr>\n",
       "      <th>std</th>\n",
       "      <td>4.584655e+03</td>\n",
       "      <td>0.026842</td>\n",
       "      <td>0.059098</td>\n",
       "      <td>0.228869</td>\n",
       "      <td>2.760286e+09</td>\n",
       "      <td>3.803783e+10</td>\n",
       "      <td>NaN</td>\n",
       "      <td>146.305643</td>\n",
       "    </tr>\n",
       "  </tbody>\n",
       "</table>\n",
       "</div>"
      ],
      "text/plain": [
       "              price           1h  ...                 date  Encoded_coin\n",
       "count  1.000000e+03  1000.000000  ...                 1000   1000.000000\n",
       "mean   6.561060e+02     0.009697  ...  2022-03-16 12:00:00    252.655000\n",
       "min    1.484000e-09    -0.704000  ...  2022-03-16 00:00:00      0.000000\n",
       "25%    1.940547e-01     0.001000  ...  2022-03-16 00:00:00    126.000000\n",
       "50%    1.095000e+00     0.006000  ...  2022-03-16 12:00:00    253.000000\n",
       "75%    7.232500e+00     0.019000  ...  2022-03-17 00:00:00    379.250000\n",
       "max    4.121727e+04     0.095000  ...  2022-03-17 00:00:00    505.000000\n",
       "std    4.584655e+03     0.026842  ...                  NaN    146.305643\n",
       "\n",
       "[8 rows x 8 columns]"
      ]
     },
     "execution_count": 10,
     "metadata": {},
     "output_type": "execute_result"
    }
   ],
   "source": [
    "df.describe()"
   ]
  },
  {
   "cell_type": "markdown",
   "id": "8e631998",
   "metadata": {},
   "source": [
    "\n",
    "**Shape and Info of the data**"
   ]
  },
  {
   "cell_type": "code",
   "execution_count": 11,
   "id": "5f5b185c",
   "metadata": {},
   "outputs": [
    {
     "name": "stdout",
     "output_type": "stream",
     "text": [
      "(1000, 10)\n",
      "<class 'pandas.core.frame.DataFrame'>\n",
      "RangeIndex: 1000 entries, 0 to 999\n",
      "Data columns (total 10 columns):\n",
      " #   Column        Non-Null Count  Dtype         \n",
      "---  ------        --------------  -----         \n",
      " 0   coin          1000 non-null   object        \n",
      " 1   symbol        1000 non-null   object        \n",
      " 2   price         1000 non-null   float64       \n",
      " 3   1h            1000 non-null   float64       \n",
      " 4   24h           1000 non-null   float64       \n",
      " 5   7d            1000 non-null   float64       \n",
      " 6   24h_volume    1000 non-null   float64       \n",
      " 7   mkt_cap       1000 non-null   float64       \n",
      " 8   date          1000 non-null   datetime64[ns]\n",
      " 9   Encoded_coin  1000 non-null   int64         \n",
      "dtypes: datetime64[ns](1), float64(6), int64(1), object(2)\n",
      "memory usage: 78.2+ KB\n",
      "None\n"
     ]
    }
   ],
   "source": [
    "print(df.shape)\n",
    "print(df.info())"
   ]
  },
  {
   "cell_type": "markdown",
   "id": "57255133",
   "metadata": {},
   "source": [
    "**Analyzing Data Patterns**\n",
    "\n",
    "PRICE DISTRIBUTION PLOT\n",
    "\n",
    "INSIGHTS >>  The price distribution indicates that most cryptocurrencies are priced between $0 and $10, showing a strong concentration in the lower price range."
   ]
  },
  {
   "cell_type": "code",
   "execution_count": 12,
   "id": "966fd215",
   "metadata": {},
   "outputs": [
    {
     "data": {
      "image/png": "[encoded data removed]",
      "text/plain": [
       "<Figure size 640x480 with 1 Axes>"
      ]
     },
     "metadata": {},
     "output_type": "display_data"
    }
   ],
   "source": [
    "sns.histplot(df['price'], bins=50 , kde= True)\n",
    "plt.title(\"PRICE DISTRIBUTION\")\n",
    "plt.xlabel(\"Price\")\n",
    "plt.ylabel(\"Count\")\n",
    "plt.show()"
   ]
  },
  {
   "cell_type": "markdown",
   "id": "2c7345e9",
   "metadata": {},
   "source": [
    "VOLUME DISTRIBUTION PLOT\n",
    "\n",
    "INSIGHTS >> The 24-hour trading volume distribution is heavily concentrated in the 0 to 1 range, with 900–1000 coins (out of ~1000 total) falling into this category."
   ]
  },
  {
   "cell_type": "code",
   "execution_count": 13,
   "id": "6a4cafd4",
   "metadata": {},
   "outputs": [
    {
     "data": {
      "image/png": "[encoded data removed]",
      "text/plain": [
       "<Figure size 640x480 with 1 Axes>"
      ]
     },
     "metadata": {},
     "output_type": "display_data"
    }
   ],
   "source": [
    "sns.histplot(df['24h_volume'] , bins=50 , kde=True)\n",
    "plt.title(\"VOLUME DISTRIBUTION PLOT\")\n",
    "plt.xlabel(\"Volume\")\n",
    "plt.ylabel(\"Counts\")\n",
    "plt.show()"
   ]
  },
  {
   "cell_type": "markdown",
   "id": "6e7c7056",
   "metadata": {},
   "source": [
    "**Analyzing Trends**\n",
    "\n",
    "Analyze price over time\n",
    "\n",
    "INSIGHTS >> The price trends of Bitcoin and Ethereum have remained quite stable over time, with Bitcoin's price consistently around $40,000 and Ethereum's price hovering below $5,000. This indicates that these two major cryptocurrencies have experienced relatively stable pricing during the time period of observation, suggesting they are less volatile compared to other coins.\n",
    "\n",
    "On the other hand, the third coin Tether is showing a significantly lower price range, and its price trend pattern follows a similar trajectory to Bitcoin and Ethereum, but at a much lower level"
   ]
  },
  {
   "cell_type": "code",
   "execution_count": 14,
   "id": "7154bc2e",
   "metadata": {},
   "outputs": [
    {
     "data": {
      "image/png": "[encoded data removed]",
      "text/plain": [
       "<Figure size 1200x600 with 1 Axes>"
      ]
     },
     "metadata": {},
     "output_type": "display_data"
    }
   ],
   "source": [
    "#Picking Top 3 coins by market cap\n",
    "TopCoins= df.groupby('coin')['mkt_cap'].max().sort_values(ascending= False).head(3).index\n",
    "\n",
    "#Filter the data\n",
    "top_df = df[df['coin'].isin(TopCoins)]\n",
    "\n",
    "#plot the trends\n",
    "plt.figure(figsize=(12 ,6))\n",
    "for coin in TopCoins:\n",
    "    subset = top_df[top_df['coin'] == coin]\n",
    "    plt.plot(subset['date'] , subset['price'] , label=coin)\n",
    "\n",
    "plt.title('Price Trends Over Time (Top 3 Coins)')\n",
    "plt.xlabel('Date')\n",
    "plt.ylabel('Price')\n",
    "plt.legend()\n",
    "plt.xticks(rotation=45)\n",
    "plt.tight_layout()\n",
    "plt.show()"
   ]
  },
  {
   "cell_type": "markdown",
   "id": "d4b26e7e",
   "metadata": {},
   "source": [
    "Market Cap Trend over time\n",
    "\n",
    "INSIGHTS >>The market cap trends of Bitcoin, Ethereum, and Tether reveal the underlying strength and dominance of these cryptocurrencies in the market:\n",
    "\n",
    "Bitcoin consistently holds a market cap between 7 and 8 trillion, reflecting its position as the dominant cryptocurrency.\n",
    "\n",
    "Ethereum's market cap fluctuates between 3 and 4 trillion, which is significantly smaller than Bitcoin's, but still represents a strong and stable presence in the market.\n",
    "\n",
    "Tether has a much smaller market cap, fluctuating between 0 and 1 trillion"
   ]
  },
  {
   "cell_type": "code",
   "execution_count": 15,
   "id": "80823b6f",
   "metadata": {},
   "outputs": [
    {
     "data": {
      "image/png": "[encoded data removed]",
      "text/plain": [
       "<Figure size 640x480 with 1 Axes>"
      ]
     },
     "metadata": {},
     "output_type": "display_data"
    }
   ],
   "source": [
    "for coin in TopCoins:\n",
    "    subset = top_df[top_df['coin'] == coin]\n",
    "    plt.plot(subset['date'], subset['mkt_cap'], label=coin)\n",
    "\n",
    "plt.title('Market Cap Trends Over Time (Top 3 Coins)')\n",
    "plt.xlabel('Date')\n",
    "plt.ylabel('Market Cap')\n",
    "plt.legend()\n",
    "plt.xticks(rotation=45)\n",
    "plt.tight_layout()\n",
    "plt.show()\n"
   ]
  },
  {
   "cell_type": "markdown",
   "id": "3a6b6411",
   "metadata": {},
   "source": [
    "Trading Volume Trends Over time\n",
    "\n",
    "INSIGHTS >> Tether saw a high trading volume on March 16 (ranging from 6 to 5 million), indicating strong liquidity demand, but this dropped significantly on March 17 (between 3 and 4 million), possibly reflecting a market cooling or stabilization after increased trading activity.\n",
    "\n",
    "Bitcoin experienced a decline in volume from 3-4 million on March 16 to 2-3 million on March 17, suggesting a slowdown in market activity or consolidation after price fluctuations.\n",
    "\n",
    "Ethereum followed a similar trend, with its trading volume dropping from 2 million on March 16 to 1 million on March 17, indicating a reduction in trading interest or speculative moves.\n",
    "\n",
    "Key Takeaway: All three coins showed a decrease in trading volume, indicating a potential market stabilization or reduced market activity after a period of increased volatility.\n"
   ]
  },
  {
   "cell_type": "code",
   "execution_count": 16,
   "id": "a9e202c7",
   "metadata": {},
   "outputs": [
    {
     "data": {
      "image/png": "[encoded data removed]",
      "text/plain": [
       "<Figure size 640x480 with 1 Axes>"
      ]
     },
     "metadata": {},
     "output_type": "display_data"
    }
   ],
   "source": [
    "for coin in TopCoins:\n",
    "    subset = top_df[top_df['coin'] == coin]\n",
    "    plt.plot(subset['date'], subset['24h_volume'], label=coin)\n",
    "\n",
    "plt.title('Trading Volume Trends Over Time (Top 3 Coins)')\n",
    "plt.xlabel('Date')\n",
    "plt.ylabel('24h Trading Volume')\n",
    "plt.legend()\n",
    "plt.xticks(rotation=45)\n",
    "plt.tight_layout()\n",
    "plt.show()\n"
   ]
  },
  {
   "cell_type": "markdown",
   "id": "34a17823",
   "metadata": {},
   "source": [
    "**Correlation Matrix**\n",
    "\n",
    "INSIGHTS >> Price and Market Cap are usually highly positively correlated (close to 1), meaning higher-priced coins tend to have higher market caps.\n",
    "\n",
    "Price and 24h Volume might show weak or moderate correlation, depending on the dataset — active trading doesn’t always mean higher prices.\n",
    "\n",
    "Short-term % changes (1h, 24h, 7d) might not correlate much with price or market cap but could show interesting patterns among themselves."
   ]
  },
  {
   "cell_type": "code",
   "execution_count": 17,
   "id": "b80192c7",
   "metadata": {},
   "outputs": [
    {
     "data": {
      "image/png": "[encoded data removed]",
      "text/plain": [
       "<Figure size 1000x600 with 2 Axes>"
      ]
     },
     "metadata": {},
     "output_type": "display_data"
    }
   ],
   "source": [
    "#Select the numerical column\n",
    "NumCols = ['price', '1h', '24h', '7d', '24h_volume', 'mkt_cap']\n",
    "CorMatrix = df[NumCols].corr()\n",
    "\n",
    "#Plot the Heatmap to visualize correlation\n",
    "plt.figure(figsize= (10,6))\n",
    "sns.heatmap(CorMatrix ,annot=True, cmap='coolwarm', fmt=\".2f\")\n",
    "plt.title(\"Correlation matrix \")\n",
    "plt.show()"
   ]
  },
  {
   "cell_type": "markdown",
   "id": "e9049d8f",
   "metadata": {},
   "source": [
    "# Feature extraction"
   ]
  },
  {
   "cell_type": "markdown",
   "id": "3eab7360",
   "metadata": {},
   "source": [
    "Check Null Values"
   ]
  },
  {
   "cell_type": "code",
   "execution_count": 18,
   "id": "656496d4",
   "metadata": {},
   "outputs": [
    {
     "data": {
      "text/plain": [
       "coin            0\n",
       "symbol          0\n",
       "price           0\n",
       "1h              0\n",
       "24h             0\n",
       "7d              0\n",
       "24h_volume      0\n",
       "mkt_cap         0\n",
       "date            0\n",
       "Encoded_coin    0\n",
       "dtype: int64"
      ]
     },
     "execution_count": 18,
     "metadata": {},
     "output_type": "execute_result"
    }
   ],
   "source": [
    "df.isnull().sum()"
   ]
  },
  {
   "cell_type": "markdown",
   "id": "a05ca3d9",
   "metadata": {},
   "source": [
    "Check data types of the column"
   ]
  },
  {
   "cell_type": "code",
   "execution_count": 19,
   "id": "6ddcef49",
   "metadata": {},
   "outputs": [
    {
     "data": {
      "text/plain": [
       "coin                    object\n",
       "symbol                  object\n",
       "price                  float64\n",
       "1h                     float64\n",
       "24h                    float64\n",
       "7d                     float64\n",
       "24h_volume             float64\n",
       "mkt_cap                float64\n",
       "date            datetime64[ns]\n",
       "Encoded_coin             int64\n",
       "dtype: object"
      ]
     },
     "execution_count": 19,
     "metadata": {},
     "output_type": "execute_result"
    }
   ],
   "source": [
    "df.dtypes"
   ]
  },
  {
   "cell_type": "markdown",
   "id": "8d2f486e",
   "metadata": {},
   "source": [
    "**Creating Moving Average Feature**\n",
    "\n",
    "To smooth out short-term fluctuations in crypto prices and identify overall price trends for each coin.\n",
    "A moving average was calculated using a 2-day window (due to limited data) for the price column, grouped by each coin."
   ]
  },
  {
   "cell_type": "code",
   "execution_count": 20,
   "id": "89e85072",
   "metadata": {},
   "outputs": [],
   "source": [
    "df['price_ma_7'] = df.groupby('coin')['price'].transform(lambda x: x.rolling(window=7, min_periods=1).mean())"
   ]
  },
  {
   "cell_type": "markdown",
   "id": "821a2429",
   "metadata": {},
   "source": [
    "**Creating Volatility Feature**\n",
    "\n",
    "This feature measures the average price fluctuation over 1 hour, 24 hours, and 7 days.\n",
    "Higher values indicate more unstable or rapidly changing prices.\n",
    "It helps identify coins with high trading risk or momentum."
   ]
  },
  {
   "cell_type": "code",
   "execution_count": 21,
   "id": "ffb78e59",
   "metadata": {},
   "outputs": [],
   "source": [
    "df['volatility'] = df[['1h', '24h', '7d']].abs().mean(axis=1)"
   ]
  },
  {
   "cell_type": "markdown",
   "id": "9a87254f",
   "metadata": {},
   "source": [
    "**Creating Liquidity Ratio Feature**\n",
    "\n",
    "This feature represents the ratio of 24-hour trading volume to the market capitalization of each coin.\n",
    "A higher value indicates that the coin is frequently traded relative to its size, suggesting higher liquidity.\n",
    "It’s useful for predicting trading efficiency and market interest in a cryptocurrency."
   ]
  },
  {
   "cell_type": "code",
   "execution_count": 22,
   "id": "4a4afad0",
   "metadata": {},
   "outputs": [],
   "source": [
    "df['liquidity_ratio'] = df['24h_volume'] / df['mkt_cap']"
   ]
  },
  {
   "cell_type": "markdown",
   "id": "0f5ac6a2",
   "metadata": {},
   "source": [
    "**Dropping unneccessary column**\n",
    "\n",
    "As we can see we have encoded coin column we did not need the coin or symbol columns. so we will drop them"
   ]
  },
  {
   "cell_type": "code",
   "execution_count": 23,
   "id": "e5b7f9bc",
   "metadata": {},
   "outputs": [],
   "source": [
    "df.drop(['coin', 'symbol'], axis=1 , inplace= True)"
   ]
  },
  {
   "cell_type": "code",
   "execution_count": 24,
   "id": "2aad16bd",
   "metadata": {},
   "outputs": [
    {
     "data": {
      "text/html": [
       "<div>\n",
       "<style scoped>\n",
       "    .dataframe tbody tr th:only-of-type {\n",
       "        vertical-align: middle;\n",
       "    }\n",
       "\n",
       "    .dataframe tbody tr th {\n",
       "        vertical-align: top;\n",
       "    }\n",
       "\n",
       "    .dataframe thead th {\n",
       "        text-align: right;\n",
       "    }\n",
       "</style>\n",
       "<table border=\"1\" class=\"dataframe\">\n",
       "  <thead>\n",
       "    <tr style=\"text-align: right;\">\n",
       "      <th></th>\n",
       "      <th>price</th>\n",
       "      <th>1h</th>\n",
       "      <th>24h</th>\n",
       "      <th>7d</th>\n",
       "      <th>24h_volume</th>\n",
       "      <th>mkt_cap</th>\n",
       "      <th>date</th>\n",
       "      <th>Encoded_coin</th>\n",
       "      <th>price_ma_7</th>\n",
       "      <th>volatility</th>\n",
       "      <th>liquidity_ratio</th>\n",
       "    </tr>\n",
       "  </thead>\n",
       "  <tbody>\n",
       "    <tr>\n",
       "      <th>0</th>\n",
       "      <td>0.518160</td>\n",
       "      <td>0.003</td>\n",
       "      <td>0.016</td>\n",
       "      <td>-0.010</td>\n",
       "      <td>24224308.0</td>\n",
       "      <td>439124277.0</td>\n",
       "      <td>2022-03-17</td>\n",
       "      <td>0</td>\n",
       "      <td>0.518160</td>\n",
       "      <td>0.009667</td>\n",
       "      <td>0.055165</td>\n",
       "    </tr>\n",
       "    <tr>\n",
       "      <th>1</th>\n",
       "      <td>0.509791</td>\n",
       "      <td>0.025</td>\n",
       "      <td>0.035</td>\n",
       "      <td>0.028</td>\n",
       "      <td>29309302.0</td>\n",
       "      <td>427933388.0</td>\n",
       "      <td>2022-03-16</td>\n",
       "      <td>0</td>\n",
       "      <td>0.513975</td>\n",
       "      <td>0.029333</td>\n",
       "      <td>0.068490</td>\n",
       "    </tr>\n",
       "    <tr>\n",
       "      <th>2</th>\n",
       "      <td>1.500000</td>\n",
       "      <td>0.021</td>\n",
       "      <td>0.111</td>\n",
       "      <td>0.163</td>\n",
       "      <td>120457113.0</td>\n",
       "      <td>616145134.0</td>\n",
       "      <td>2022-03-16</td>\n",
       "      <td>1</td>\n",
       "      <td>1.500000</td>\n",
       "      <td>0.098333</td>\n",
       "      <td>0.195501</td>\n",
       "    </tr>\n",
       "    <tr>\n",
       "      <th>3</th>\n",
       "      <td>1.490000</td>\n",
       "      <td>0.008</td>\n",
       "      <td>-0.003</td>\n",
       "      <td>0.087</td>\n",
       "      <td>64145152.0</td>\n",
       "      <td>617505356.0</td>\n",
       "      <td>2022-03-17</td>\n",
       "      <td>1</td>\n",
       "      <td>1.495000</td>\n",
       "      <td>0.032667</td>\n",
       "      <td>0.103878</td>\n",
       "    </tr>\n",
       "    <tr>\n",
       "      <th>4</th>\n",
       "      <td>0.237396</td>\n",
       "      <td>0.047</td>\n",
       "      <td>0.287</td>\n",
       "      <td>0.241</td>\n",
       "      <td>13715452.0</td>\n",
       "      <td>114207956.0</td>\n",
       "      <td>2022-03-16</td>\n",
       "      <td>2</td>\n",
       "      <td>0.237396</td>\n",
       "      <td>0.191667</td>\n",
       "      <td>0.120092</td>\n",
       "    </tr>\n",
       "    <tr>\n",
       "      <th>...</th>\n",
       "      <td>...</td>\n",
       "      <td>...</td>\n",
       "      <td>...</td>\n",
       "      <td>...</td>\n",
       "      <td>...</td>\n",
       "      <td>...</td>\n",
       "      <td>...</td>\n",
       "      <td>...</td>\n",
       "      <td>...</td>\n",
       "      <td>...</td>\n",
       "      <td>...</td>\n",
       "    </tr>\n",
       "    <tr>\n",
       "      <th>995</th>\n",
       "      <td>0.997496</td>\n",
       "      <td>0.001</td>\n",
       "      <td>0.004</td>\n",
       "      <td>-0.003</td>\n",
       "      <td>9442897.0</td>\n",
       "      <td>94221877.0</td>\n",
       "      <td>2022-03-17</td>\n",
       "      <td>503</td>\n",
       "      <td>0.996687</td>\n",
       "      <td>0.002667</td>\n",
       "      <td>0.100220</td>\n",
       "    </tr>\n",
       "    <tr>\n",
       "      <th>996</th>\n",
       "      <td>3.800000</td>\n",
       "      <td>0.002</td>\n",
       "      <td>0.033</td>\n",
       "      <td>0.055</td>\n",
       "      <td>107293.0</td>\n",
       "      <td>213613208.0</td>\n",
       "      <td>2022-03-16</td>\n",
       "      <td>504</td>\n",
       "      <td>3.800000</td>\n",
       "      <td>0.030000</td>\n",
       "      <td>0.000502</td>\n",
       "    </tr>\n",
       "    <tr>\n",
       "      <th>997</th>\n",
       "      <td>4.020000</td>\n",
       "      <td>0.012</td>\n",
       "      <td>0.058</td>\n",
       "      <td>0.022</td>\n",
       "      <td>255785.0</td>\n",
       "      <td>225344906.0</td>\n",
       "      <td>2022-03-17</td>\n",
       "      <td>504</td>\n",
       "      <td>3.910000</td>\n",
       "      <td>0.030667</td>\n",
       "      <td>0.001135</td>\n",
       "    </tr>\n",
       "    <tr>\n",
       "      <th>998</th>\n",
       "      <td>18982.860000</td>\n",
       "      <td>0.017</td>\n",
       "      <td>0.017</td>\n",
       "      <td>-0.014</td>\n",
       "      <td>81875140.0</td>\n",
       "      <td>678377900.0</td>\n",
       "      <td>2022-03-16</td>\n",
       "      <td>505</td>\n",
       "      <td>18982.860000</td>\n",
       "      <td>0.016000</td>\n",
       "      <td>0.120693</td>\n",
       "    </tr>\n",
       "    <tr>\n",
       "      <th>999</th>\n",
       "      <td>19370.210000</td>\n",
       "      <td>-0.004</td>\n",
       "      <td>0.020</td>\n",
       "      <td>-0.049</td>\n",
       "      <td>79795044.0</td>\n",
       "      <td>691957768.0</td>\n",
       "      <td>2022-03-17</td>\n",
       "      <td>505</td>\n",
       "      <td>19176.535000</td>\n",
       "      <td>0.024333</td>\n",
       "      <td>0.115318</td>\n",
       "    </tr>\n",
       "  </tbody>\n",
       "</table>\n",
       "<p>1000 rows × 11 columns</p>\n",
       "</div>"
      ],
      "text/plain": [
       "            price     1h    24h  ...    price_ma_7  volatility  liquidity_ratio\n",
       "0        0.518160  0.003  0.016  ...      0.518160    0.009667         0.055165\n",
       "1        0.509791  0.025  0.035  ...      0.513975    0.029333         0.068490\n",
       "2        1.500000  0.021  0.111  ...      1.500000    0.098333         0.195501\n",
       "3        1.490000  0.008 -0.003  ...      1.495000    0.032667         0.103878\n",
       "4        0.237396  0.047  0.287  ...      0.237396    0.191667         0.120092\n",
       "..            ...    ...    ...  ...           ...         ...              ...\n",
       "995      0.997496  0.001  0.004  ...      0.996687    0.002667         0.100220\n",
       "996      3.800000  0.002  0.033  ...      3.800000    0.030000         0.000502\n",
       "997      4.020000  0.012  0.058  ...      3.910000    0.030667         0.001135\n",
       "998  18982.860000  0.017  0.017  ...  18982.860000    0.016000         0.120693\n",
       "999  19370.210000 -0.004  0.020  ...  19176.535000    0.024333         0.115318\n",
       "\n",
       "[1000 rows x 11 columns]"
      ]
     },
     "execution_count": 24,
     "metadata": {},
     "output_type": "execute_result"
    }
   ],
   "source": [
    "df"
   ]
  },
  {
   "cell_type": "markdown",
   "id": "766b8397",
   "metadata": {},
   "source": [
    "**Checking the Outlier**\n",
    "\n",
    "As we can see market cap column has manu outliers."
   ]
  },
  {
   "cell_type": "code",
   "execution_count": 25,
   "id": "3294a36c",
   "metadata": {},
   "outputs": [
    {
     "data": {
      "image/png": "[encoded data removed]",
      "text/plain": [
       "<Figure size 1200x600 with 1 Axes>"
      ]
     },
     "metadata": {},
     "output_type": "display_data"
    }
   ],
   "source": [
    "#Selecting all the numeric column\n",
    "df_numeric = df.select_dtypes(include='number')\n",
    "\n",
    "# Create boxplot for all numeric columns\n",
    "plt.figure(figsize=(12, 6))\n",
    "df_numeric.boxplot()\n",
    "plt.xticks(rotation=45)\n",
    "plt.title(\"Boxplot for All Numeric Columns\")\n",
    "plt.tight_layout()\n",
    "plt.show()"
   ]
  },
  {
   "cell_type": "markdown",
   "id": "47fe0140",
   "metadata": {},
   "source": [
    "**Remiving outliers using cappping**"
   ]
  },
  {
   "cell_type": "code",
   "execution_count": 26,
   "id": "20d33b0d",
   "metadata": {},
   "outputs": [],
   "source": [
    "# Set upper and lower caps\n",
    "lower_cap = df['mkt_cap'].quantile(0.05)  # 5th percentile\n",
    "upper_cap = df['mkt_cap'].quantile(0.95)  # 95th percentile\n",
    "\n",
    "# Clip the values\n",
    "df['mkt_cap_capped'] = df['mkt_cap'].clip(lower=lower_cap, upper=upper_cap)"
   ]
  },
  {
   "cell_type": "code",
   "execution_count": 27,
   "id": "d5eb812c",
   "metadata": {},
   "outputs": [],
   "source": [
    "#Dropping the actual column\n",
    "df.drop('mkt_cap',inplace=True , axis=1)"
   ]
  },
  {
   "cell_type": "markdown",
   "id": "bc6f38b1",
   "metadata": {},
   "source": [
    "Applied percentile capping on market_cap (5th–95th) to handle outliers, and replaced the original column with the capped version."
   ]
  },
  {
   "cell_type": "markdown",
   "id": "c1e967aa",
   "metadata": {},
   "source": [
    "# Model Selection\n",
    "\n",
    "In this project, I have chosen XGBoost (Extreme Gradient Boosting) as the machine learning model for predicting cryptocurrency liquidity for several reasons. XGBoost is a powerful and highly efficient model that excels in tasks like regression, classification, and forecasting"
   ]
  },
  {
   "cell_type": "markdown",
   "id": "75349fbb",
   "metadata": {},
   "source": [
    "# Model Training"
   ]
  },
  {
   "cell_type": "code",
   "execution_count": 35,
   "id": "2c910864",
   "metadata": {},
   "outputs": [],
   "source": [
    "#Impot required Libraries\n",
    "from xgboost import XGBRegressor\n",
    "from sklearn.model_selection import train_test_split\n",
    "\n",
    "#Devide the data into x and y\n",
    "x = df.drop(columns=['liquidity_ratio', 'date'], axis=1)\n",
    "y = df['liquidity_ratio']\n",
    "\n",
    "#Train test split\n",
    "xtrain , xtest , ytrain , ytest = train_test_split(x ,y , test_size=0.2 , random_state=1)\n",
    "\n",
    "#Model building\n",
    "xgb = XGBRegressor(objective='reg:squarederror', n_estimators=100, max_depth=6, learning_rate=0.1, random_state=42)\n",
    "\n",
    "#Model training\n",
    "xgb.fit(xtrain , ytrain)\n",
    "\n",
    "#model prediction\n",
    "ypred = xgb.predict(xtest)"
   ]
  },
  {
   "cell_type": "markdown",
   "id": "0df00eb8",
   "metadata": {},
   "source": [
    "# Model Evaluation"
   ]
  },
  {
   "cell_type": "code",
   "execution_count": 36,
   "id": "0dbfc369",
   "metadata": {},
   "outputs": [
    {
     "name": "stdout",
     "output_type": "stream",
     "text": [
      "Root mean squared error : 0.3254424267793658\n",
      "Mean absolute error: 0.03991696225168817\n",
      "R2 score : -0.5563718421484014\n"
     ]
    }
   ],
   "source": [
    "#Importing required library\n",
    "from sklearn.metrics import root_mean_squared_error , r2_score, mean_absolute_error\n",
    "\n",
    "#Model evaluation\n",
    "RMSE = root_mean_squared_error(ypred , ytest)\n",
    "MAE = mean_absolute_error(ypred , ytest)\n",
    "r2score = r2_score(ypred , ytest)\n",
    "\n",
    "#Printing model scores\n",
    "print(f\"Root mean squared error : {RMSE}\")\n",
    "print(f\"Mean absolute error: {MAE}\")\n",
    "print(f\"R2 score : {r2score}\")"
   ]
  },
  {
   "cell_type": "markdown",
   "id": "08bd4ba8",
   "metadata": {},
   "source": [
    "The XGBoost regression model was evaluated using standard performance metrics:\n",
    "\n",
    "Root Mean Squared Error (RMSE): 0.3254\n",
    "\n",
    "Mean Absolute Error (MAE): 0.0399\n",
    "\n",
    "R² Score: -0.5563\n",
    "\n",
    "The low MAE indicates that the model's average prediction error is relatively small, suggesting reasonable pointwise accuracy. However, the negative R² score shows that the model struggles to capture the overall variance in the target variable, indicating the need for improvement in the model’s ability to generalize.\n",
    "\n"
   ]
  },
  {
   "cell_type": "markdown",
   "id": "5ed03da7",
   "metadata": {},
   "source": [
    "# HyperParameter Tuning"
   ]
  },
  {
   "cell_type": "code",
   "execution_count": 40,
   "id": "9142f778",
   "metadata": {},
   "outputs": [
    {
     "name": "stdout",
     "output_type": "stream",
     "text": [
      "Fitting 3 folds for each of 243 candidates, totalling 729 fits\n"
     ]
    },
    {
     "name": "stdout",
     "output_type": "stream",
     "text": [
      "Best Parameters: {'colsample_bytree': 0.8, 'learning_rate': 0.2, 'max_depth': 3, 'n_estimators': 150, 'subsample': 1.0}\n",
      "RMSE: 0.3254\n",
      "MAE: 0.0399\n",
      "R² Score: 0.5554\n"
     ]
    }
   ],
   "source": [
    "from sklearn.model_selection import GridSearchCV\n",
    "from sklearn.metrics import mean_squared_error\n",
    "\n",
    "#defining the model\n",
    "xgb_model = XGBRegressor(objective='reg:squarederror', random_state=42)\n",
    "\n",
    "#define param grid\n",
    "param_grid = {\n",
    "    'n_estimators': [50, 100, 150],\n",
    "    'max_depth': [3, 5, 7],\n",
    "    'learning_rate': [0.01, 0.1, 0.2],\n",
    "    'subsample': [0.6, 0.8, 1.0],\n",
    "    'colsample_bytree': [0.6, 0.8, 1.0]\n",
    "}\n",
    "\n",
    "#Defining Grid Search CV\n",
    "\n",
    "grid_search = GridSearchCV(\n",
    "    estimator=xgb_model,         # 👈 this is your base model\n",
    "    param_grid=param_grid,       # the dictionary of parameters to test\n",
    "    scoring='neg_mean_squared_error',\n",
    "    cv=3,\n",
    "    verbose=1,\n",
    "    n_jobs=-1\n",
    ")\n",
    "\n",
    "# Fit the GridSearchCV to find the best hyperparameters\n",
    "grid_search.fit(xtrain, ytrain)\n",
    "\n",
    "#Extract the best model\n",
    "best_model = grid_search.best_estimator_\n",
    "print(\"Best Parameters:\", grid_search.best_params_)\n",
    "\n",
    "#Evaluate the tuned Model\n",
    "y_pred = best_model.predict(xtest)\n",
    "\n",
    "rmse = np.sqrt(mean_squared_error(ytest, ypred))\n",
    "mae = mean_absolute_error(ytest, ypred)\n",
    "r2 = r2_score(ytest, ypred)\n",
    "\n",
    "print(f\"RMSE: {rmse:.4f}\")\n",
    "print(f\"MAE: {mae:.4f}\")\n",
    "print(f\"R² Score: {r2:.4f}\")\n"
   ]
  },
  {
   "cell_type": "markdown",
   "id": "f7e7069c",
   "metadata": {},
   "source": [
    "After applying hyperparameter tuning using GridSearchCV, the performance of the XGBoost regression model improved significantly. The optimized model was evaluated on the test dataset using standard regression metrics:\n",
    "\n",
    "Root Mean Squared Error (RMSE): 0.3254\n",
    "\n",
    "Mean Absolute Error (MAE): 0.0399\n",
    "\n",
    "R² Score: 0.5554\n",
    "\n",
    "The positive R² score of 0.5554 indicates that the tuned model is now able to explain over 55% of the variance in the target variable (liquidity_ratio), which shows a substantial improvement in predictive power compared to the initial model. The low MAE also reflects that the model's predictions are consistently close to the actual values, with minimal average error."
   ]
  },
  {
   "cell_type": "markdown",
   "id": "c46580a0",
   "metadata": {},
   "source": [
    "**Saving the trained Model**"
   ]
  },
  {
   "cell_type": "code",
   "execution_count": 41,
   "id": "ce9eacc4",
   "metadata": {},
   "outputs": [
    {
     "data": {
      "text/plain": [
       "['xgb_liquidity_model.pkl']"
      ]
     },
     "execution_count": 41,
     "metadata": {},
     "output_type": "execute_result"
    }
   ],
   "source": [
    "import joblib\n",
    "\n",
    "joblib.dump(best_model, \"xgb_liquidity_model.pkl\")"
   ]
  },
  {
   "cell_type": "markdown",
   "id": "cab1b9e9",
   "metadata": {},
   "source": [
    "# Model Deployment\n",
    "\n",
    "The trained XGBoost model was deployed using Flask to make it accessible via a REST API. A Python script (app.py) was created to load the saved model and define a /predict endpoint that accepts input features in JSON format and returns the predicted liquidity ratio. Another script (test_api.py) was used to test the API by sending POST requests with sample inputs and receiving predictions. This setup allows seamless integration of the model into other applications or systems for real-time use."
   ]
  },
  {
   "cell_type": "markdown",
   "id": "b898f172",
   "metadata": {},
   "source": [
    "# Final Report \n",
    "\n",
    "This project focused on predicting the liquidity ratio of cryptocurrencies using historical market data and machine learning. After preprocessing and feature engineering, the XGBoost Regressor was selected due to its strong performance on structured data. The model initially showed moderate results, which were significantly improved through hyperparameter tuning using GridSearchCV.\n",
    "\n",
    "Best Model Performance:\n",
    "\n",
    "RMSE: 0.3254\n",
    "\n",
    "MAE: 0.0399\n",
    "\n",
    "R² Score: 0.5554\n",
    "\n",
    "The final model was deployed as a Flask API, making it accessible for real-time prediction tasks.\n",
    "Key Insight: Market features like price movement, volume, and volatility play a crucial role in influencing liquidity, and machine learning can effectively capture this relationship for predictive analysis."
   ]
  },
  {
   "cell_type": "code",
   "execution_count": null,
   "id": "26c759cf",
   "metadata": {},
   "outputs": [],
   "source": []
  }
 ],
 "metadata": {
  "kernelspec": {
   "display_name": "crypto",
   "language": "python",
   "name": "python3"
  },
  "language_info": {
   "codemirror_mode": {
    "name": "ipython",
    "version": 3
   },
   "file_extension": ".py",
   "mimetype": "text/x-python",
   "name": "python",
   "nbconvert_exporter": "python",
   "pygments_lexer": "ipython3",
   "version": "3.10.10"
  }
 },
 "nbformat": 4,
 "nbformat_minor": 5
}
